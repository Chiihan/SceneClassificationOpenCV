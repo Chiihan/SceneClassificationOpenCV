{
 "cells": [
  {
   "cell_type": "code",
   "execution_count": 18,
   "metadata": {
    "collapsed": false
   },
   "outputs": [],
   "source": [
    "import numpy as np\n",
    "import cv2\n",
    "import time\n",
    "import argparse\n",
    "import glob\n",
    "import itertools\n",
    "\n",
    "#This notebook provides the tools for a programmer to mannually cut out training example\n",
    "#patches, used in this project to classify sky/non-sky and indiviudal sky types"
   ]
  },
  {
   "cell_type": "code",
   "execution_count": 19,
   "metadata": {
    "collapsed": false
   },
   "outputs": [],
   "source": [
    "#create a list of file names with a variety of sky types\n",
    "\n",
    "\n",
    "#The * means all files with .jpg are included\n",
    "CloudPaths= glob.glob('./Data/cloudy/*.jpg')\n",
    "SunPaths= glob.glob('./Data/sunny/*.jpg')\n",
    "mixedPaths = list(itertools.chain.from_iterable(zip(CloudPaths, SunPaths)))\n",
    "\n",
    "\n",
    "# initialize the list of reference points and boolean indicating\n",
    "# whether cropping is being performed or not\n",
    "refPt = []\n",
    "cropping = False\n",
    "skyPatchs = []\n",
    " \n",
    "def click_and_crop(event, x, y, flags, param):\n",
    "\t# grab references to the global variables\n",
    "\tglobal refPt, cropping\n",
    " \n",
    "\t# if the left mouse button was clicked, record the starting\n",
    "\t# (x, y) coordinates and indicate that cropping is being\n",
    "\t# performed\n",
    "\tif event == cv2.EVENT_LBUTTONDOWN:\n",
    "\t\trefPt = [(x, y)]\n",
    "\t\tcropping = True\n",
    " \n",
    "\t# check to see if the left mouse button was released\n",
    "\telif event == cv2.EVENT_LBUTTONUP:\n",
    "\t\t# record the ending (x, y) coordinates and indicate that\n",
    "\t\t# the cropping operation is finished\n",
    "\t\trefPt.append((x, y))\n",
    "\t\tcropping = False\n",
    " \n",
    "\t\t# draw a rectangle around the region of interest\n",
    "\t\tcv2.rectangle(image, refPt[0], refPt[1], (0, 255, 0), 2)\n",
    "\t\tcv2.imshow(\"image\", image)"
   ]
  },
  {
   "cell_type": "code",
   "execution_count": 21,
   "metadata": {
    "collapsed": false
   },
   "outputs": [],
   "source": [
    "#load the image, clone it, and setup the mouse callback function\n",
    "picNum = 0\n",
    "image = cv2.imread(mixedPaths[-picNum])\n",
    "image = cv2.resize(image, (512, 512))\n",
    "clone = image.copy()\n",
    "cv2.namedWindow(\"image\")\n",
    "cv2.setMouseCallback(\"image\", click_and_crop)\n",
    " \n",
    "# keep looping until the 'q' key is pressed\n",
    "while True:\n",
    "    # display the image and wait for a keypress\n",
    "    cv2.imshow(\"image\", image)\n",
    "    key = cv2.waitKey(1) & 0xFF\n",
    " \n",
    "    # if the 'r' key is pressed, reset the cropping region\n",
    "    if key == ord(\"r\"):\n",
    "        image = clone.copy()\n",
    " \n",
    "    # if the 'c' key is pressed, break from the loop\n",
    "    elif key == ord(\"c\"):\n",
    "        break\n",
    "        \n",
    "        # if the 'w' key is pressed, save the cut\n",
    "    elif key == ord(\"w\"):\n",
    "        roi = clone[refPt[0][1]:refPt[1][1], refPt[0][0]:refPt[1][0]]\n",
    "        skyPatchs.append(roi)\n",
    "        #w appends the chosen selection to list of patches\n",
    "        \n",
    "        \n",
    "    elif key == ord(\"e\"):\n",
    "        cv2.destroyAllWindows()\n",
    "        picNum = picNum + 1\n",
    "        image = cv2.imread(mixedPaths[picNum])\n",
    "        image = cv2.resize(image, (512, 512))\n",
    "        clone = image.copy()\n",
    "        cv2.namedWindow(\"image\")\n",
    "        cv2.setMouseCallback(\"image\", click_and_crop)\n",
    "        #pressing e destroys current img and loads next image in mixed path list \n",
    "    \n",
    " \n",
    "\n",
    "if len(refPt) == 2:\n",
    "    cv2.waitKey(0)\n",
    " \n",
    "# close all open windows\n",
    "cv2.destroyAllWindows()"
   ]
  },
  {
   "cell_type": "code",
   "execution_count": null,
   "metadata": {
    "collapsed": true
   },
   "outputs": [],
   "source": []
  },
  {
   "cell_type": "code",
   "execution_count": null,
   "metadata": {
    "collapsed": false
   },
   "outputs": [],
   "source": [
    "import time\n",
    "\n",
    "for i in range(len(skyPatchs)):\n",
    "    cv2.imshow('img', skyPatchs[i])\n",
    "    time.sleep(1)\n",
    "    cv2.destroyAllWindows()\n",
    "#print sample patches to check are correct"
   ]
  },
  {
   "cell_type": "code",
   "execution_count": null,
   "metadata": {
    "collapsed": false
   },
   "outputs": [],
   "source": [
    "errors = 0\n",
    "for i in range(len(skyPatchs)):\n",
    "    if i <= len(skyPatchs):\n",
    "        a, b, c = skyPatchs[i].shape\n",
    "        if (a * b * c) == 0:\n",
    "            del skyPatchs[i]\n",
    "            errors = errors + 1\n",
    "print(errors)\n",
    "\n",
    "#this box deletes any patchs with size zero and reports the number \n",
    "#of these erronous ones"
   ]
  },
  {
   "cell_type": "code",
   "execution_count": null,
   "metadata": {
    "collapsed": false
   },
   "outputs": [],
   "source": [
    "#nonskyPatchList = skyPatchs\n",
    "#skyPatchList = skyPatchs\n",
    "#run through twice getting sky and non sky patch lists seperatly"
   ]
  },
  {
   "cell_type": "code",
   "execution_count": null,
   "metadata": {
    "collapsed": false
   },
   "outputs": [],
   "source": [
    "import pickle\n",
    "\n",
    "pickle.dump(skyPatchList, open(\"patches.sky\", \"wb\"))\n",
    "pickle.dump(nonskyPatchList, open(\"patches.nonsky\", \"wb\"))\n",
    "\n",
    "#save both patch lists so can load in other file"
   ]
  },
  {
   "cell_type": "code",
   "execution_count": null,
   "metadata": {
    "collapsed": true
   },
   "outputs": [],
   "source": []
  },
  {
   "cell_type": "code",
   "execution_count": null,
   "metadata": {
    "collapsed": false
   },
   "outputs": [],
   "source": [
    "cv2.destroyAllWindows()\n",
    "#Used to exit the viewing modes"
   ]
  },
  {
   "cell_type": "code",
   "execution_count": null,
   "metadata": {
    "collapsed": true
   },
   "outputs": [],
   "source": [
    "# import the necessary packages\n",
    "import argparse\n",
    "import cv2\n",
    "\n",
    "#need an list of file names mixed between each group\n",
    "#need a list that can be appended with all these sky sections \n",
    "\n",
    "import glob\n",
    "import itertools\n",
    "\n",
    "CloudPaths= glob.glob('/Users/christophersheehan/PycharmProjects/OpenCV/Data/cloudy/*.jpg')\n",
    "SunPaths= glob.glob('/Users/christophersheehan/PycharmProjects/OpenCV/Data/sunny/*.jpg')\n",
    "mixedPaths = list(itertools.chain.from_iterable(zip(CloudPaths, SunPaths)))\n",
    "\n",
    "\n",
    "# initialize the list of reference points and boolean indicating\n",
    "# whether cropping is being performed or not\n",
    "refPt = []\n",
    "cropping = False\n",
    "skyPatchs = []\n",
    " \n",
    "def click_and_crop(event, x, y, flags, param):\n",
    "\t# grab references to the global variables\n",
    "\tglobal refPt, cropping\n",
    " \n",
    "\t# if the left mouse button was clicked, record the starting\n",
    "\t# (x, y) coordinates and indicate that cropping is being\n",
    "\t# performed\n",
    "\tif event == cv2.EVENT_LBUTTONDOWN:\n",
    "\t\trefPt = [(x, y)]\n",
    "\t\tcropping = True\n",
    " \n",
    "\t# check to see if the left mouse button was released\n",
    "\telif event == cv2.EVENT_LBUTTONUP:\n",
    "\t\t# record the ending (x, y) coordinates and indicate that\n",
    "\t\t# the cropping operation is finished\n",
    "\t\trefPt.append((x, y))\n",
    "\t\tcropping = False\n",
    " \n",
    "\t\t# draw a rectangle around the region of interest\n",
    "\t\tcv2.rectangle(image, refPt[0], refPt[1], (0, 255, 0), 2)\n",
    "\t\tcv2.imshow(\"image\", image)"
   ]
  },
  {
   "cell_type": "code",
   "execution_count": null,
   "metadata": {
    "collapsed": true
   },
   "outputs": [],
   "source": [
    "#sky type trainer \n",
    "\n",
    "#load the image, clone it, and setup the mouse callback function\n",
    "picNum = 0\n",
    "image = cv2.imread(SunPaths[picNum])\n",
    "image = cv2.resize(image, (512, 512))\n",
    "clone = image.copy()\n",
    "cv2.namedWindow(\"image\")\n",
    "cv2.setMouseCallback(\"image\", click_and_crop)\n",
    " \n",
    "# keep looping until the 'q' key is pressed\n",
    "while True:\n",
    "    # display the image and wait for a keypress\n",
    "    cv2.imshow(\"image\", image)\n",
    "    key = cv2.waitKey(1) & 0xFF\n",
    " \n",
    "    # if the 'r' key is pressed, reset the cropping region\n",
    "    if key == ord(\"r\"):\n",
    "        image = clone.copy()\n",
    " \n",
    "    # if the 'c' key is pressed, break from the loop\n",
    "    elif key == ord(\"c\"):\n",
    "        break\n",
    "        \n",
    "        # if the 'w' key is pressed, save the cut\n",
    "    elif key == ord(\"w\"):\n",
    "        roi = clone[refPt[0][1]:refPt[1][1], refPt[0][0]:refPt[1][0]]\n",
    "        skyPatchs.append(roi)\n",
    "        #w appends the chosen selection to list of patches\n",
    "        \n",
    "        \n",
    "    elif key == ord(\"e\"):\n",
    "        cv2.destroyAllWindows()\n",
    "        picNum = picNum + 1\n",
    "        image = cv2.imread(SunPaths[picNum])\n",
    "        image = cv2.resize(image, (512, 512))\n",
    "        clone = image.copy()\n",
    "        cv2.namedWindow(\"image\")\n",
    "        cv2.setMouseCallback(\"image\", click_and_crop)\n",
    "        #pressing e destroys current img and loads next image in mixed path list \n",
    "    \n",
    " \n",
    "\n",
    "if len(refPt) == 2:\n",
    "    cv2.waitKey(0)\n",
    " \n",
    "# close all open windows\n",
    "cv2.destroyAllWindows()"
   ]
  },
  {
   "cell_type": "code",
   "execution_count": null,
   "metadata": {
    "collapsed": false
   },
   "outputs": [],
   "source": [
    "import pickle\n",
    "\n",
    "pickle.dump(skyPatchs, open(\"patches.sunnySky\", \"wb\"))\n",
    "\n",
    "\n",
    "#save patch so can load in other file"
   ]
  },
  {
   "cell_type": "code",
   "execution_count": null,
   "metadata": {
    "collapsed": true
   },
   "outputs": [],
   "source": [
    "# import the necessary packages\n",
    "import argparse\n",
    "import cv2\n",
    "\n",
    "#need an list of file names mixed between each group\n",
    "#need a list that can be appended with all these sky sections \n",
    "\n",
    "import glob\n",
    "import itertools\n",
    "\n",
    "CloudPaths= glob.glob('/Users/christophersheehan/PycharmProjects/OpenCV/Data/cloudy/*.jpg')\n",
    "SunPaths= glob.glob('/Users/christophersheehan/PycharmProjects/OpenCV/Data/sunny/*.jpg')\n",
    "mixedPaths = list(itertools.chain.from_iterable(zip(CloudPaths, SunPaths)))\n",
    "\n",
    "\n",
    "# initialize the list of reference points and boolean indicating\n",
    "# whether cropping is being performed or not\n",
    "refPt = []\n",
    "cropping = False\n",
    "skyPatchs = []\n",
    " \n",
    "def click_and_crop(event, x, y, flags, param):\n",
    "\t# grab references to the global variables\n",
    "\tglobal refPt, cropping\n",
    " \n",
    "\t# if the left mouse button was clicked, record the starting\n",
    "\t# (x, y) coordinates and indicate that cropping is being\n",
    "\t# performed\n",
    "\tif event == cv2.EVENT_LBUTTONDOWN:\n",
    "\t\trefPt = [(x, y)]\n",
    "\t\tcropping = True\n",
    " \n",
    "\t# check to see if the left mouse button was released\n",
    "\telif event == cv2.EVENT_LBUTTONUP:\n",
    "\t\t# record the ending (x, y) coordinates and indicate that\n",
    "\t\t# the cropping operation is finished\n",
    "\t\trefPt.append((x, y))\n",
    "\t\tcropping = False\n",
    " \n",
    "\t\t# draw a rectangle around the region of interest\n",
    "\t\tcv2.rectangle(image, refPt[0], refPt[1], (0, 255, 0), 2)\n",
    "\t\tcv2.imshow(\"image\", image)"
   ]
  },
  {
   "cell_type": "code",
   "execution_count": null,
   "metadata": {
    "collapsed": true
   },
   "outputs": [],
   "source": [
    "#sky type trainer \n",
    "\n",
    "#load the image, clone it, and setup the mouse callback function\n",
    "picNum = 0\n",
    "image = cv2.imread(CloudPaths[picNum])\n",
    "image = cv2.resize(image, (512, 512))\n",
    "clone = image.copy()\n",
    "cv2.namedWindow(\"image\")\n",
    "cv2.setMouseCallback(\"image\", click_and_crop)\n",
    " \n",
    "# keep looping until the 'q' key is pressed\n",
    "while True:\n",
    "    # display the image and wait for a keypress\n",
    "    cv2.imshow(\"image\", image)\n",
    "    key = cv2.waitKey(1) & 0xFF\n",
    " \n",
    "    # if the 'r' key is pressed, reset the cropping region\n",
    "    if key == ord(\"r\"):\n",
    "        image = clone.copy()\n",
    " \n",
    "    # if the 'c' key is pressed, break from the loop\n",
    "    elif key == ord(\"c\"):\n",
    "        break\n",
    "        \n",
    "        # if the 'w' key is pressed, save the cut\n",
    "    elif key == ord(\"w\"):\n",
    "        roi = clone[refPt[0][1]:refPt[1][1], refPt[0][0]:refPt[1][0]]\n",
    "        skyPatchs.append(roi)\n",
    "        #w appends the chosen selection to list of patches\n",
    "        \n",
    "        \n",
    "    elif key == ord(\"e\"):\n",
    "        cv2.destroyAllWindows()\n",
    "        picNum = picNum + 1\n",
    "        image = cv2.imread(CloudPaths[picNum])\n",
    "        image = cv2.resize(image, (512, 512))\n",
    "        clone = image.copy()\n",
    "        cv2.namedWindow(\"image\")\n",
    "        cv2.setMouseCallback(\"image\", click_and_crop)\n",
    "        #pressing e destroys current img and loads next image in mixed path list \n",
    "    \n",
    " \n",
    "\n",
    "if len(refPt) == 2:\n",
    "    cv2.waitKey(0)\n",
    " \n",
    "# close all open windows\n",
    "cv2.destroyAllWindows()"
   ]
  },
  {
   "cell_type": "code",
   "execution_count": null,
   "metadata": {
    "collapsed": true
   },
   "outputs": [],
   "source": [
    "import pickle\n",
    "\n",
    "pickle.dump(skyPatchs, open(\"patches.cloudySky\", \"wb\"))\n",
    "\n",
    "\n",
    "#save patch so can load in other file\n",
    "#repeat these scripts chaning details each time to create with list of training vectors"
   ]
  }
 ],
 "metadata": {
  "kernelspec": {
   "display_name": "Python 3",
   "language": "python",
   "name": "python3"
  },
  "language_info": {
   "codemirror_mode": {
    "name": "ipython",
    "version": 3
   },
   "file_extension": ".py",
   "mimetype": "text/x-python",
   "name": "python",
   "nbconvert_exporter": "python",
   "pygments_lexer": "ipython3",
   "version": "3.4.4"
  }
 },
 "nbformat": 4,
 "nbformat_minor": 0
}
